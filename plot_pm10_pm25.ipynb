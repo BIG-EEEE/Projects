{
 "cells": [
  {
   "cell_type": "code",
   "execution_count": null,
   "id": "e323f0ed",
   "metadata": {},
   "outputs": [],
   "source": [
    "import pandas as pd\n",
    "import matplotlib.pyplot as plt"
   ]
  },
  {
   "cell_type": "code",
   "execution_count": null,
   "id": "45609d6e",
   "metadata": {},
   "outputs": [],
   "source": [
    "# Load the CSV file\n",
    "file_path = '/mnt/data/4_5780513882875368407.csv'\n",
    "data = pd.read_csv(file_path)"
   ]
  },
  {
   "cell_type": "code",
   "execution_count": null,
   "id": "05716242",
   "metadata": {},
   "outputs": [],
   "source": [
    "# Convert 'captured' column to datetime\n",
    "data['captured'] = pd.to_datetime(data['captured'])"
   ]
  },
  {
   "cell_type": "code",
   "execution_count": null,
   "id": "57d675b5",
   "metadata": {},
   "outputs": [],
   "source": [
    "# Create the plot\n",
    "fig, ax1 = plt.subplots(figsize=(12, 6))\n",
    "\n",
    "# Plot pm10 on the primary y-axis\n",
    "ax1.plot(data['captured'], data['pm10_0'], color='tab:blue', label='PM10')\n",
    "ax1.set_xlabel('Captured Time')\n",
    "ax1.set_ylabel('PM10', color='tab:blue')\n",
    "ax1.tick_params(axis='y', labelcolor='tab:blue')\n",
    "ax1.legend(loc='upper left')\n",
    "\n",
    "# Create a secondary y-axis\n",
    "ax2 = ax1.twinx()\n",
    "ax2.plot(data['captured'], data['pm02_5'], color='tab:red', label='PM2.5')\n",
    "ax2.set_ylabel('PM2.5', color='tab:red')\n",
    "ax2.tick_params(axis='y', labelcolor='tab:red')\n",
    "ax2.legend(loc='upper right')\n",
    "\n",
    "# Rotate x-axis labels for better readability\n",
    "plt.xticks(rotation=45)\n",
    "\n",
    "# Add grid and tight layout\n",
    "plt.grid(True)\n",
    "plt.tight_layout()\n",
    "\n",
    "# Show the plot\n",
    "plt.show()"
   ]
  }
 ],
 "metadata": {},
 "nbformat": 4,
 "nbformat_minor": 5
}
